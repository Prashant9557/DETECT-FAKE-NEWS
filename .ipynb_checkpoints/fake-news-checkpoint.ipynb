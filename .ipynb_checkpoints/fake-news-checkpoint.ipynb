{
 "cells": [
  {
   "cell_type": "code",
   "execution_count": 1,
   "id": "e344b66a-b165-48a6-917f-c3e85b398310",
   "metadata": {},
   "outputs": [
    {
     "name": "stdout",
     "output_type": "stream",
     "text": [
      "Requirement already satisfied: datasets in c:\\users\\prash\\appdata\\local\\programs\\python\\python312\\lib\\site-packages (3.1.0)\n",
      "Requirement already satisfied: filelock in c:\\users\\prash\\appdata\\local\\programs\\python\\python312\\lib\\site-packages (from datasets) (3.16.1)\n",
      "Requirement already satisfied: numpy>=1.17 in c:\\users\\prash\\appdata\\local\\programs\\python\\python312\\lib\\site-packages (from datasets) (2.0.0)\n",
      "Requirement already satisfied: pyarrow>=15.0.0 in c:\\users\\prash\\appdata\\local\\programs\\python\\python312\\lib\\site-packages (from datasets) (18.0.0)\n",
      "Requirement already satisfied: dill<0.3.9,>=0.3.0 in c:\\users\\prash\\appdata\\local\\programs\\python\\python312\\lib\\site-packages (from datasets) (0.3.8)\n",
      "Requirement already satisfied: pandas in c:\\users\\prash\\appdata\\local\\programs\\python\\python312\\lib\\site-packages (from datasets) (2.2.2)\n",
      "Requirement already satisfied: requests>=2.32.2 in c:\\users\\prash\\appdata\\local\\programs\\python\\python312\\lib\\site-packages (from datasets) (2.32.3)\n",
      "Requirement already satisfied: tqdm>=4.66.3 in c:\\users\\prash\\appdata\\local\\programs\\python\\python312\\lib\\site-packages (from datasets) (4.66.4)\n",
      "Requirement already satisfied: xxhash in c:\\users\\prash\\appdata\\local\\programs\\python\\python312\\lib\\site-packages (from datasets) (3.5.0)\n",
      "Requirement already satisfied: multiprocess<0.70.17 in c:\\users\\prash\\appdata\\local\\programs\\python\\python312\\lib\\site-packages (from datasets) (0.70.16)\n",
      "Requirement already satisfied: fsspec<=2024.9.0,>=2023.1.0 in c:\\users\\prash\\appdata\\local\\programs\\python\\python312\\lib\\site-packages (from fsspec[http]<=2024.9.0,>=2023.1.0->datasets) (2024.9.0)\n",
      "Requirement already satisfied: aiohttp in c:\\users\\prash\\appdata\\local\\programs\\python\\python312\\lib\\site-packages (from datasets) (3.11.0)\n",
      "Requirement already satisfied: huggingface-hub>=0.23.0 in c:\\users\\prash\\appdata\\local\\programs\\python\\python312\\lib\\site-packages (from datasets) (0.26.2)\n",
      "Requirement already satisfied: packaging in c:\\users\\prash\\appdata\\local\\programs\\python\\python312\\lib\\site-packages (from datasets) (24.1)\n",
      "Requirement already satisfied: pyyaml>=5.1 in c:\\users\\prash\\appdata\\local\\programs\\python\\python312\\lib\\site-packages (from datasets) (6.0.1)\n",
      "Requirement already satisfied: aiohappyeyeballs>=2.3.0 in c:\\users\\prash\\appdata\\local\\programs\\python\\python312\\lib\\site-packages (from aiohttp->datasets) (2.4.3)\n",
      "Requirement already satisfied: aiosignal>=1.1.2 in c:\\users\\prash\\appdata\\local\\programs\\python\\python312\\lib\\site-packages (from aiohttp->datasets) (1.3.1)\n",
      "Requirement already satisfied: attrs>=17.3.0 in c:\\users\\prash\\appdata\\local\\programs\\python\\python312\\lib\\site-packages (from aiohttp->datasets) (23.2.0)\n",
      "Requirement already satisfied: frozenlist>=1.1.1 in c:\\users\\prash\\appdata\\local\\programs\\python\\python312\\lib\\site-packages (from aiohttp->datasets) (1.5.0)\n",
      "Requirement already satisfied: multidict<7.0,>=4.5 in c:\\users\\prash\\appdata\\local\\programs\\python\\python312\\lib\\site-packages (from aiohttp->datasets) (6.1.0)\n",
      "Requirement already satisfied: propcache>=0.2.0 in c:\\users\\prash\\appdata\\local\\programs\\python\\python312\\lib\\site-packages (from aiohttp->datasets) (0.2.0)\n",
      "Requirement already satisfied: yarl<2.0,>=1.17.0 in c:\\users\\prash\\appdata\\local\\programs\\python\\python312\\lib\\site-packages (from aiohttp->datasets) (1.17.1)\n",
      "Requirement already satisfied: typing-extensions>=3.7.4.3 in c:\\users\\prash\\appdata\\local\\programs\\python\\python312\\lib\\site-packages (from huggingface-hub>=0.23.0->datasets) (4.12.2)\n",
      "Requirement already satisfied: charset-normalizer<4,>=2 in c:\\users\\prash\\appdata\\local\\programs\\python\\python312\\lib\\site-packages (from requests>=2.32.2->datasets) (3.3.2)\n",
      "Requirement already satisfied: idna<4,>=2.5 in c:\\users\\prash\\appdata\\local\\programs\\python\\python312\\lib\\site-packages (from requests>=2.32.2->datasets) (3.7)\n",
      "Requirement already satisfied: urllib3<3,>=1.21.1 in c:\\users\\prash\\appdata\\local\\programs\\python\\python312\\lib\\site-packages (from requests>=2.32.2->datasets) (2.2.2)\n",
      "Requirement already satisfied: certifi>=2017.4.17 in c:\\users\\prash\\appdata\\local\\programs\\python\\python312\\lib\\site-packages (from requests>=2.32.2->datasets) (2024.7.4)\n",
      "Requirement already satisfied: colorama in c:\\users\\prash\\appdata\\local\\programs\\python\\python312\\lib\\site-packages (from tqdm>=4.66.3->datasets) (0.4.6)\n",
      "Requirement already satisfied: python-dateutil>=2.8.2 in c:\\users\\prash\\appdata\\local\\programs\\python\\python312\\lib\\site-packages (from pandas->datasets) (2.9.0.post0)\n",
      "Requirement already satisfied: pytz>=2020.1 in c:\\users\\prash\\appdata\\local\\programs\\python\\python312\\lib\\site-packages (from pandas->datasets) (2024.1)\n",
      "Requirement already satisfied: tzdata>=2022.7 in c:\\users\\prash\\appdata\\local\\programs\\python\\python312\\lib\\site-packages (from pandas->datasets) (2024.1)\n",
      "Requirement already satisfied: six>=1.5 in c:\\users\\prash\\appdata\\local\\programs\\python\\python312\\lib\\site-packages (from python-dateutil>=2.8.2->pandas->datasets) (1.16.0)\n"
     ]
    },
    {
     "name": "stderr",
     "output_type": "stream",
     "text": [
      "\n",
      "[notice] A new release of pip is available: 24.0 -> 24.3.1\n",
      "[notice] To update, run: python.exe -m pip install --upgrade pip\n"
     ]
    }
   ],
   "source": [
    "!pip install datasets"
   ]
  },
  {
   "cell_type": "code",
   "execution_count": 2,
   "id": "461d14d5-0a1b-4159-b3e1-eb560a58d0b2",
   "metadata": {},
   "outputs": [
    {
     "name": "stderr",
     "output_type": "stream",
     "text": [
      "Repo card metadata block was not found. Setting CardData to empty.\n"
     ]
    },
    {
     "name": "stdout",
     "output_type": "stream",
     "text": [
      "DatasetDict({\n",
      "    train: Dataset({\n",
      "        features: ['Unnamed: 0', 'title', 'text', 'label'],\n",
      "        num_rows: 24353\n",
      "    })\n",
      "    validation: Dataset({\n",
      "        features: ['Unnamed: 0', 'title', 'text', 'label'],\n",
      "        num_rows: 8117\n",
      "    })\n",
      "    test: Dataset({\n",
      "        features: ['Unnamed: 0', 'title', 'text', 'label'],\n",
      "        num_rows: 8117\n",
      "    })\n",
      "})\n"
     ]
    }
   ],
   "source": [
    "from datasets import load_dataset\n",
    "\n",
    "# Load the dataset\n",
    "ds = load_dataset(\"GonzaloA/fake_news\")\n",
    "\n",
    "# Display the dataset structure\n",
    "print(ds)"
   ]
  },
  {
   "cell_type": "code",
   "execution_count": 3,
   "id": "b816328d-22b6-474d-a747-195cebbc1976",
   "metadata": {},
   "outputs": [
    {
     "name": "stdout",
     "output_type": "stream",
     "text": [
      "{'Unnamed: 0': 0, 'title': ' ‘Maury’ Show Official Facebook Posts F*CKED UP Caption On Guest That Looks Like Ted Cruz (IMAGE)', 'text': 'Maury is perhaps one of the trashiest shows on television today. It s right in line with the likes of the gutter trash that is Jerry Springer, and the fact that those shows are still on the air with the shit they air really is a sad testament to what Americans find to be entertaining. However, Maury really crossed the line with a Facebook post regarding one of their guest s appearance with a vile, disgusting caption on Tuesday evening.There was a young woman on there doing one of their episodes regarding the paternity of her child. However, on the page, the show posted an image of the woman, who happens to bear a striking resemblance to Senator and presidential candidate Ted Cruz. The caption from the Maury Show page read: The Lie Detector Test determined .that was a LIE!  Ted Cruz is just NOT that SEXY! As if that weren t horrible enough, the caption underneath the Imgur upload reads,  Ted Cruz in drag on Maury. Here is an image from the official Maury Facebook page:Here is the embed of the post itself:This is beyond despicable. It s bad enough that this show preys on desperate people to keep their trashy show going and their audience of bottom-feeders entertained, but now they publicly mock them as well? This young woman cannot help how she looks or who she resembles. That is not her fault. Shaming someone s looks on social media is something we d expect from the morons who watch this crap on a daily basis, but it is NOT something the official show page should be doing. Then again, what can you expect from a show that rolls in the mud for a living and continues to show the world that there is now low they will not stoop to? This was more than a step too far, though.Maury, you owe this young woman a public apology. A VERY public apology. There s just no excuse for this, no matter the demographics of your audience or what you do on that disgusting show of yours. I suppose it will be too much to ask that you lose viewers over this, because the people who watch your trashy ass show likely aren t educated enough to understand why this is so wrong in the first place. I don t watch, so I can t deprive you of my viewership, but I CAN call you out.Shame on you, Maury Show and everyone associated with this despicable Facebook post. You really showed your true colors here today.Featured image via Facebook ', 'label': 0}\n",
      "{'Unnamed: 0': [0, 1, 2, 3, 4], 'title': [' ‘Maury’ Show Official Facebook Posts F*CKED UP Caption On Guest That Looks Like Ted Cruz (IMAGE)', ' Trump’s Favorite News Channel Tries To Soothe His Battered Ego – Gets Taken To The Cleaners', 'Russia warns Iraq, Kurds not to destabilize Middle East after Kurdish vote', 'WATCH STEVE SCALISE Throw A Strike At The Nationals Baseball Game [Video]', ' Trump Will HATE What Stephen Colbert Just Did To Him – It’s Pure Comedy Genius (VIDEO)'], 'text': ['Maury is perhaps one of the trashiest shows on television today. It s right in line with the likes of the gutter trash that is Jerry Springer, and the fact that those shows are still on the air with the shit they air really is a sad testament to what Americans find to be entertaining. However, Maury really crossed the line with a Facebook post regarding one of their guest s appearance with a vile, disgusting caption on Tuesday evening.There was a young woman on there doing one of their episodes regarding the paternity of her child. However, on the page, the show posted an image of the woman, who happens to bear a striking resemblance to Senator and presidential candidate Ted Cruz. The caption from the Maury Show page read: The Lie Detector Test determined .that was a LIE!  Ted Cruz is just NOT that SEXY! As if that weren t horrible enough, the caption underneath the Imgur upload reads,  Ted Cruz in drag on Maury. Here is an image from the official Maury Facebook page:Here is the embed of the post itself:This is beyond despicable. It s bad enough that this show preys on desperate people to keep their trashy show going and their audience of bottom-feeders entertained, but now they publicly mock them as well? This young woman cannot help how she looks or who she resembles. That is not her fault. Shaming someone s looks on social media is something we d expect from the morons who watch this crap on a daily basis, but it is NOT something the official show page should be doing. Then again, what can you expect from a show that rolls in the mud for a living and continues to show the world that there is now low they will not stoop to? This was more than a step too far, though.Maury, you owe this young woman a public apology. A VERY public apology. There s just no excuse for this, no matter the demographics of your audience or what you do on that disgusting show of yours. I suppose it will be too much to ask that you lose viewers over this, because the people who watch your trashy ass show likely aren t educated enough to understand why this is so wrong in the first place. I don t watch, so I can t deprive you of my viewership, but I CAN call you out.Shame on you, Maury Show and everyone associated with this despicable Facebook post. You really showed your true colors here today.Featured image via Facebook ', 'Yesterday, after the father of one of the UCLA players arrested in China failed to show Trump proper gratitude for getting his kid released, Trump, predictably, went to Twitter to grouse about it. He seems to expect to be worshiped for his help on this matter, but LaVar Ball wouldn t do it, so Trump tweeted:Now that the three basketball players are out of China and saved from years in jail, LaVar Ball, the father of LiAngelo, is unaccepting of what I did for his son and that shoplifting is no big deal. I should have left them in jail!  Donald J. Trump (@realDonaldTrump) November 19, 2017Fox News put that tweet into a meme portraying Trump as a strong, decisive leader and the UCLA basketball players as weaklings, because of course they did. Then they asked:  Do you agree with President Trump? Yes. Fox News seriously asked people whether they agree that Trump should have left them in jail because the father of one is refusing to show proper gratitude:Do you agree with President @realDonaldTrump? pic.twitter.com/p3VdoXPxPG  Fox News (@FoxNews) November 20, 2017And Twitter is just not having this at all:Nope. He needs adoration- sign of insecurity. That s why he mocks others. Worthless. pic.twitter.com/XpI18s83Wx  Billy Depp (@ucla_007) November 20, 2017I ve never seen a Fox tweet critical of the president.All Fox is does is aid and abet insanity, hate and divisiveness that hurts America. pic.twitter.com/HrsATfLSMI  American Patriot (@RealPatriot1976) November 20, 2017It s all relative. Shoplifting is a crime but its totally eclipsed by Trump University.  Cody Swan (@Lampliighter) November 20, 2017Yeah, POTUS should only do his job if he gets his ass kissed properly. Are you high?  Bill Raudenbush (@CandidateBill) November 20, 2017No. He s a child!  Opinionated (@letmesharewithu) November 20, 2017nah i know what public service means   o  (@geofftype) November 20, 2017I think he should stop being petty af. I don t care to hear about this from the President of the United States. He s so insecure, it s beyond troubling.  Keisha Venezio (@keishhhha) November 20, 2017No, I don t agree  pic.twitter.com/7N9KI0oTxl  Kelly H (@Kellyk1969) November 20, 2017Do you agree with President @realDonaldTrump? pic.twitter.com/p3VdoXPxPG  Fox News (@FoxNews) November 20, 2017Nope. I personally would be extraordinarily appreciative if this happened to one of my kids, but i think it s shameful that the prez resents not being thanked enough and doesn t view helping Americans as just part of the job.  Liberal Kansan (@pvliberal) November 20, 2017NO Disgusting & embarrassing!  Melanie (@Melanie03630436) November 20, 2017Well, I m not convinced that he single-handedly got them out of jail  so the question isn t really valid  Isaac Simonelli (@DiceTravels) November 20, 2017No normal person does. And YOU know it.  Ernie Page (@AngryHatter) November 20, 2017What?! This man is a child in a rumpled suit. In case you haven t noticed, hardly anybody likes him. : Thus, when you give to the needy, sound no trumpet before you, as the hypocrites do in the synagogues and in the streets, that they may be praised by others.  pic.twitter.com/ntJzgkdWdz  DEMOS..We the people (@Windemere22) November 20, 2017China should have thrown #Dotard @realDonaldTrump into the slammer, chucked the key into the bog & flushed it away.  Holger  \\\\_( )_/  (@hnelke1973) November 20, 2017No. @realDonaldTrump has no idea what it means to do good for the sake of doing good. He is an empty shell of a man with no moral compass. Also not my favorite president.  Doreen Graham (@DoreeGraham) November 20, 2017Absolutely not. The fact that our narcissistic baby in chief can t take any criticism without lashing out is disgraceful. We deserve better  erin o (@erin0331) November 20, 2017Typical trump .. always about himself forgetting America is for all  SARA_PDaily (@sarapdaily) November 20, 2017Typical trump .. always about himself forgetting America is for all  SARA_PDaily (@sarapdaily) November 20, 2017Why would anyone agree with this shit? Remember when we mourned the death of the student who died in NK and now we re talking about this?  Aditya Sharma (@adityaksharma) November 20, 2017No I do not agree with Donald. As a matter of fact, I wish he was left in the hospital at the time of his birth.  RABell (@R_A_Bell) November 20, 2017President Man-Baby needs to grow up. And Fox News needs to stop feeding his bullshit.Featured image via Alex Wong/Getty Images', 'MOSCOW (Reuters) - Russia on Wednesday warned Iraq and the Kurds against taking any steps that might destabilize the Middle East after a Kurdish independence referendum, encouraging both sides to hold talks to find a solution within the framework of a single Iraqi state. The Russian Foreign Ministry, in the same statement, also said that while Moscow respected the Kurds  national ambitions it favored preserving the territorial integrity of Iraq. ', \"House Majority Whip Steve Scalise (R., La.) threw a strike in his ceremonial first pitch at the Washington National s opening-round playoff game Friday night, which was also his birthday.Scalise was shot in the hip and nearly died in June and he had to throw from a walker but he had no trouble delivering a perfect pitch to Capitol police special agent David Bailey, who was also injured in the shooting.After taking a bullet on a field in Alexandria, Va., Scalise was visibly happy to return to the diamond, and he expressed his gratefulness on Twitter after.What a memorable birthday! I threw the first pitch at tonight's @Nationals vs. @Cubs #NLDS game! pic.twitter.com/1F7XrRGwiP  Rep. Steve Scalise (@SteveScalise) October 7, 2017Scalise returned to the House of Representatives last week to warm greetings from his colleagues, and he expressed thankfulness for his recovery. It s only strengthened my faith in God, and it s really crystallized what shows up as the goodness in people,  he said.  I got to see that goodness in people, and so while some people might focus on a tragic event and an evil act, to me, all I ll remember are the thousands of acts and kindness and love that came out of this.  Read more: WFB\", 'It can be said that Late Show host Stephen Colbert clearly gives no f*cks about what Donald Trump thinks of him. In addition, if Trump were to decide to angry-tweet Colbert in retaliation, you know that Colbert would wear that Twitter fit as a badge of honor, as he should.Absolutely annihilating Trump, his connection to Putin, the Russian prostitute story, the fact that he wants to take a mini-vacation after the inauguration, and the fact that, well, he s clearly full of sh*t, Colbert didn t hold back even bringing God, yes that God almighty with a gun, into the mix.Colbert even brought up the fact that Trump s approval ratings are absolutely pathetic, especially when compared to President Obama s approval rating upon entering office. Not only that, but Colbert had to admit something terrible   that he and white supremacists have one thing in common, they are absolutely disappointed in Trump   albeit clearly for different reasons.The Late Show host even pointed out that Trump will blame everything on being rigged if it doesn t go his way. Even if the weather is bad on Inauguration Day, that s clearly a conspiracy against him.Watch Colbert absolutely shred Trump here:Featured image via video screen capture'], 'label': [0, 0, 1, 0, 0]}\n"
     ]
    }
   ],
   "source": [
    "# View the first example in the dataset\n",
    "print(ds[\"train\"][0])\n",
    "\n",
    "# View the first five examples\n",
    "print(ds[\"train\"][:5])"
   ]
  },
  {
   "cell_type": "code",
   "execution_count": 4,
   "id": "21491148-68ac-424f-9175-b2eb1752327a",
   "metadata": {},
   "outputs": [
    {
     "name": "stdout",
     "output_type": "stream",
     "text": [
      "{'Unnamed: 0': [0, 1, 2, 3, 4], 'title': [' ‘Maury’ Show Official Facebook Posts F*CKED UP Caption On Guest That Looks Like Ted Cruz (IMAGE)', ' Trump’s Favorite News Channel Tries To Soothe His Battered Ego – Gets Taken To The Cleaners', 'Russia warns Iraq, Kurds not to destabilize Middle East after Kurdish vote', 'WATCH STEVE SCALISE Throw A Strike At The Nationals Baseball Game [Video]', ' Trump Will HATE What Stephen Colbert Just Did To Him – It’s Pure Comedy Genius (VIDEO)'], 'text': ['Maury is perhaps one of the trashiest shows on television today. It s right in line with the likes of the gutter trash that is Jerry Springer, and the fact that those shows are still on the air with the shit they air really is a sad testament to what Americans find to be entertaining. However, Maury really crossed the line with a Facebook post regarding one of their guest s appearance with a vile, disgusting caption on Tuesday evening.There was a young woman on there doing one of their episodes regarding the paternity of her child. However, on the page, the show posted an image of the woman, who happens to bear a striking resemblance to Senator and presidential candidate Ted Cruz. The caption from the Maury Show page read: The Lie Detector Test determined .that was a LIE!  Ted Cruz is just NOT that SEXY! As if that weren t horrible enough, the caption underneath the Imgur upload reads,  Ted Cruz in drag on Maury. Here is an image from the official Maury Facebook page:Here is the embed of the post itself:This is beyond despicable. It s bad enough that this show preys on desperate people to keep their trashy show going and their audience of bottom-feeders entertained, but now they publicly mock them as well? This young woman cannot help how she looks or who she resembles. That is not her fault. Shaming someone s looks on social media is something we d expect from the morons who watch this crap on a daily basis, but it is NOT something the official show page should be doing. Then again, what can you expect from a show that rolls in the mud for a living and continues to show the world that there is now low they will not stoop to? This was more than a step too far, though.Maury, you owe this young woman a public apology. A VERY public apology. There s just no excuse for this, no matter the demographics of your audience or what you do on that disgusting show of yours. I suppose it will be too much to ask that you lose viewers over this, because the people who watch your trashy ass show likely aren t educated enough to understand why this is so wrong in the first place. I don t watch, so I can t deprive you of my viewership, but I CAN call you out.Shame on you, Maury Show and everyone associated with this despicable Facebook post. You really showed your true colors here today.Featured image via Facebook ', 'Yesterday, after the father of one of the UCLA players arrested in China failed to show Trump proper gratitude for getting his kid released, Trump, predictably, went to Twitter to grouse about it. He seems to expect to be worshiped for his help on this matter, but LaVar Ball wouldn t do it, so Trump tweeted:Now that the three basketball players are out of China and saved from years in jail, LaVar Ball, the father of LiAngelo, is unaccepting of what I did for his son and that shoplifting is no big deal. I should have left them in jail!  Donald J. Trump (@realDonaldTrump) November 19, 2017Fox News put that tweet into a meme portraying Trump as a strong, decisive leader and the UCLA basketball players as weaklings, because of course they did. Then they asked:  Do you agree with President Trump? Yes. Fox News seriously asked people whether they agree that Trump should have left them in jail because the father of one is refusing to show proper gratitude:Do you agree with President @realDonaldTrump? pic.twitter.com/p3VdoXPxPG  Fox News (@FoxNews) November 20, 2017And Twitter is just not having this at all:Nope. He needs adoration- sign of insecurity. That s why he mocks others. Worthless. pic.twitter.com/XpI18s83Wx  Billy Depp (@ucla_007) November 20, 2017I ve never seen a Fox tweet critical of the president.All Fox is does is aid and abet insanity, hate and divisiveness that hurts America. pic.twitter.com/HrsATfLSMI  American Patriot (@RealPatriot1976) November 20, 2017It s all relative. Shoplifting is a crime but its totally eclipsed by Trump University.  Cody Swan (@Lampliighter) November 20, 2017Yeah, POTUS should only do his job if he gets his ass kissed properly. Are you high?  Bill Raudenbush (@CandidateBill) November 20, 2017No. He s a child!  Opinionated (@letmesharewithu) November 20, 2017nah i know what public service means   o  (@geofftype) November 20, 2017I think he should stop being petty af. I don t care to hear about this from the President of the United States. He s so insecure, it s beyond troubling.  Keisha Venezio (@keishhhha) November 20, 2017No, I don t agree  pic.twitter.com/7N9KI0oTxl  Kelly H (@Kellyk1969) November 20, 2017Do you agree with President @realDonaldTrump? pic.twitter.com/p3VdoXPxPG  Fox News (@FoxNews) November 20, 2017Nope. I personally would be extraordinarily appreciative if this happened to one of my kids, but i think it s shameful that the prez resents not being thanked enough and doesn t view helping Americans as just part of the job.  Liberal Kansan (@pvliberal) November 20, 2017NO Disgusting & embarrassing!  Melanie (@Melanie03630436) November 20, 2017Well, I m not convinced that he single-handedly got them out of jail  so the question isn t really valid  Isaac Simonelli (@DiceTravels) November 20, 2017No normal person does. And YOU know it.  Ernie Page (@AngryHatter) November 20, 2017What?! This man is a child in a rumpled suit. In case you haven t noticed, hardly anybody likes him. : Thus, when you give to the needy, sound no trumpet before you, as the hypocrites do in the synagogues and in the streets, that they may be praised by others.  pic.twitter.com/ntJzgkdWdz  DEMOS..We the people (@Windemere22) November 20, 2017China should have thrown #Dotard @realDonaldTrump into the slammer, chucked the key into the bog & flushed it away.  Holger  \\\\_( )_/  (@hnelke1973) November 20, 2017No. @realDonaldTrump has no idea what it means to do good for the sake of doing good. He is an empty shell of a man with no moral compass. Also not my favorite president.  Doreen Graham (@DoreeGraham) November 20, 2017Absolutely not. The fact that our narcissistic baby in chief can t take any criticism without lashing out is disgraceful. We deserve better  erin o (@erin0331) November 20, 2017Typical trump .. always about himself forgetting America is for all  SARA_PDaily (@sarapdaily) November 20, 2017Typical trump .. always about himself forgetting America is for all  SARA_PDaily (@sarapdaily) November 20, 2017Why would anyone agree with this shit? Remember when we mourned the death of the student who died in NK and now we re talking about this?  Aditya Sharma (@adityaksharma) November 20, 2017No I do not agree with Donald. As a matter of fact, I wish he was left in the hospital at the time of his birth.  RABell (@R_A_Bell) November 20, 2017President Man-Baby needs to grow up. And Fox News needs to stop feeding his bullshit.Featured image via Alex Wong/Getty Images', 'MOSCOW (Reuters) - Russia on Wednesday warned Iraq and the Kurds against taking any steps that might destabilize the Middle East after a Kurdish independence referendum, encouraging both sides to hold talks to find a solution within the framework of a single Iraqi state. The Russian Foreign Ministry, in the same statement, also said that while Moscow respected the Kurds  national ambitions it favored preserving the territorial integrity of Iraq. ', \"House Majority Whip Steve Scalise (R., La.) threw a strike in his ceremonial first pitch at the Washington National s opening-round playoff game Friday night, which was also his birthday.Scalise was shot in the hip and nearly died in June and he had to throw from a walker but he had no trouble delivering a perfect pitch to Capitol police special agent David Bailey, who was also injured in the shooting.After taking a bullet on a field in Alexandria, Va., Scalise was visibly happy to return to the diamond, and he expressed his gratefulness on Twitter after.What a memorable birthday! I threw the first pitch at tonight's @Nationals vs. @Cubs #NLDS game! pic.twitter.com/1F7XrRGwiP  Rep. Steve Scalise (@SteveScalise) October 7, 2017Scalise returned to the House of Representatives last week to warm greetings from his colleagues, and he expressed thankfulness for his recovery. It s only strengthened my faith in God, and it s really crystallized what shows up as the goodness in people,  he said.  I got to see that goodness in people, and so while some people might focus on a tragic event and an evil act, to me, all I ll remember are the thousands of acts and kindness and love that came out of this.  Read more: WFB\", 'It can be said that Late Show host Stephen Colbert clearly gives no f*cks about what Donald Trump thinks of him. In addition, if Trump were to decide to angry-tweet Colbert in retaliation, you know that Colbert would wear that Twitter fit as a badge of honor, as he should.Absolutely annihilating Trump, his connection to Putin, the Russian prostitute story, the fact that he wants to take a mini-vacation after the inauguration, and the fact that, well, he s clearly full of sh*t, Colbert didn t hold back even bringing God, yes that God almighty with a gun, into the mix.Colbert even brought up the fact that Trump s approval ratings are absolutely pathetic, especially when compared to President Obama s approval rating upon entering office. Not only that, but Colbert had to admit something terrible   that he and white supremacists have one thing in common, they are absolutely disappointed in Trump   albeit clearly for different reasons.The Late Show host even pointed out that Trump will blame everything on being rigged if it doesn t go his way. Even if the weather is bad on Inauguration Day, that s clearly a conspiracy against him.Watch Colbert absolutely shred Trump here:Featured image via video screen capture'], 'label': [0, 0, 1, 0, 0]}\n"
     ]
    }
   ],
   "source": [
    "print(ds[\"train\"][:5])"
   ]
  },
  {
   "cell_type": "code",
   "execution_count": 5,
   "id": "23994b99-6665-49d4-beb6-f6ae2e0b4f08",
   "metadata": {},
   "outputs": [
    {
     "name": "stdout",
     "output_type": "stream",
     "text": [
      "Dataset({\n",
      "    features: ['Unnamed: 0', 'title', 'text', 'label'],\n",
      "    num_rows: 0\n",
      "})\n"
     ]
    }
   ],
   "source": [
    "# Check for missing values\n",
    "print(ds[\"train\"].filter(lambda x: x[\"text\"] is None))"
   ]
  },
  {
   "cell_type": "code",
   "execution_count": 6,
   "id": "0f03d8a6-15cd-48a4-8f20-eec0c7dffa03",
   "metadata": {},
   "outputs": [],
   "source": [
    "ds = ds.filter(lambda x: x[\"text\"] is not None)"
   ]
  },
  {
   "cell_type": "code",
   "execution_count": 7,
   "id": "872db27f-67c7-4f34-8b1e-ddd474effa4a",
   "metadata": {},
   "outputs": [],
   "source": [
    "def to_lowercase(example):\n",
    "    example[\"text\"] = example[\"text\"].lower()\n",
    "    return example\n",
    "\n",
    "ds = ds.map(to_lowercase)"
   ]
  },
  {
   "cell_type": "code",
   "execution_count": 8,
   "id": "bf094d32-48a1-4513-9dac-788a880bd903",
   "metadata": {},
   "outputs": [],
   "source": [
    "import re\n",
    "\n",
    "def remove_special_characters(example):\n",
    "    example[\"text\"] = re.sub(r\"[^a-zA-Z0-9\\s]\", \"\", example[\"text\"])\n",
    "    return example\n",
    "\n",
    "ds = ds.map(remove_special_characters)"
   ]
  },
  {
   "cell_type": "code",
   "execution_count": 9,
   "id": "fa0dfdbb-f622-40d6-813c-8f39d95b1dbc",
   "metadata": {},
   "outputs": [
    {
     "name": "stdout",
     "output_type": "stream",
     "text": [
      "Requirement already satisfied: transformers in c:\\users\\prash\\appdata\\local\\programs\\python\\python312\\lib\\site-packages (4.46.2)\n",
      "Requirement already satisfied: filelock in c:\\users\\prash\\appdata\\local\\programs\\python\\python312\\lib\\site-packages (from transformers) (3.16.1)\n",
      "Requirement already satisfied: huggingface-hub<1.0,>=0.23.2 in c:\\users\\prash\\appdata\\local\\programs\\python\\python312\\lib\\site-packages (from transformers) (0.26.2)\n",
      "Requirement already satisfied: numpy>=1.17 in c:\\users\\prash\\appdata\\local\\programs\\python\\python312\\lib\\site-packages (from transformers) (2.0.0)\n",
      "Requirement already satisfied: packaging>=20.0 in c:\\users\\prash\\appdata\\local\\programs\\python\\python312\\lib\\site-packages (from transformers) (24.1)\n",
      "Requirement already satisfied: pyyaml>=5.1 in c:\\users\\prash\\appdata\\local\\programs\\python\\python312\\lib\\site-packages (from transformers) (6.0.1)\n",
      "Requirement already satisfied: regex!=2019.12.17 in c:\\users\\prash\\appdata\\local\\programs\\python\\python312\\lib\\site-packages (from transformers) (2024.5.15)\n",
      "Requirement already satisfied: requests in c:\\users\\prash\\appdata\\local\\programs\\python\\python312\\lib\\site-packages (from transformers) (2.32.3)\n",
      "Requirement already satisfied: safetensors>=0.4.1 in c:\\users\\prash\\appdata\\local\\programs\\python\\python312\\lib\\site-packages (from transformers) (0.4.5)\n",
      "Requirement already satisfied: tokenizers<0.21,>=0.20 in c:\\users\\prash\\appdata\\local\\programs\\python\\python312\\lib\\site-packages (from transformers) (0.20.3)\n",
      "Requirement already satisfied: tqdm>=4.27 in c:\\users\\prash\\appdata\\local\\programs\\python\\python312\\lib\\site-packages (from transformers) (4.66.4)\n",
      "Requirement already satisfied: fsspec>=2023.5.0 in c:\\users\\prash\\appdata\\local\\programs\\python\\python312\\lib\\site-packages (from huggingface-hub<1.0,>=0.23.2->transformers) (2024.9.0)\n",
      "Requirement already satisfied: typing-extensions>=3.7.4.3 in c:\\users\\prash\\appdata\\local\\programs\\python\\python312\\lib\\site-packages (from huggingface-hub<1.0,>=0.23.2->transformers) (4.12.2)\n",
      "Requirement already satisfied: colorama in c:\\users\\prash\\appdata\\local\\programs\\python\\python312\\lib\\site-packages (from tqdm>=4.27->transformers) (0.4.6)\n",
      "Requirement already satisfied: charset-normalizer<4,>=2 in c:\\users\\prash\\appdata\\local\\programs\\python\\python312\\lib\\site-packages (from requests->transformers) (3.3.2)\n",
      "Requirement already satisfied: idna<4,>=2.5 in c:\\users\\prash\\appdata\\local\\programs\\python\\python312\\lib\\site-packages (from requests->transformers) (3.7)\n",
      "Requirement already satisfied: urllib3<3,>=1.21.1 in c:\\users\\prash\\appdata\\local\\programs\\python\\python312\\lib\\site-packages (from requests->transformers) (2.2.2)\n",
      "Requirement already satisfied: certifi>=2017.4.17 in c:\\users\\prash\\appdata\\local\\programs\\python\\python312\\lib\\site-packages (from requests->transformers) (2024.7.4)\n"
     ]
    },
    {
     "name": "stderr",
     "output_type": "stream",
     "text": [
      "\n",
      "[notice] A new release of pip is available: 24.0 -> 24.3.1\n",
      "[notice] To update, run: python.exe -m pip install --upgrade pip\n"
     ]
    }
   ],
   "source": [
    "!pip install transformers"
   ]
  },
  {
   "cell_type": "code",
   "execution_count": 10,
   "id": "e5e0330b-4ff8-470b-84c0-a93a6a52c2c9",
   "metadata": {},
   "outputs": [],
   "source": [
    "from transformers import AutoTokenizer\n",
    "\n",
    "tokenizer = AutoTokenizer.from_pretrained(\"bert-base-uncased\")\n",
    "\n",
    "def tokenize_data(example):\n",
    "    return tokenizer(example[\"text\"], padding=\"max_length\", truncation=True)\n",
    "\n",
    "ds = ds.map(tokenize_data, batched=True)"
   ]
  },
  {
   "cell_type": "code",
   "execution_count": 11,
   "id": "cc1ba16c-317c-4cd6-9fa3-18f7008342c7",
   "metadata": {},
   "outputs": [],
   "source": [
    "ds = ds[\"train\"].train_test_split(test_size=0.2)"
   ]
  },
  {
   "cell_type": "code",
   "execution_count": 12,
   "id": "f601ac72-03a8-457a-8c77-219848c888bf",
   "metadata": {},
   "outputs": [
    {
     "name": "stderr",
     "output_type": "stream",
     "text": [
      "Repo card metadata block was not found. Setting CardData to empty.\n"
     ]
    },
    {
     "name": "stdout",
     "output_type": "stream",
     "text": [
      "Accuracy: 0.9677684253746663\n",
      "              precision    recall  f1-score   support\n",
      "\n",
      "           0       0.96      0.97      0.96      2187\n",
      "           1       0.97      0.97      0.97      2684\n",
      "\n",
      "    accuracy                           0.97      4871\n",
      "   macro avg       0.97      0.97      0.97      4871\n",
      "weighted avg       0.97      0.97      0.97      4871\n",
      "\n"
     ]
    }
   ],
   "source": [
    "from datasets import load_dataset\n",
    "from sklearn.linear_model import LogisticRegression\n",
    "from sklearn.feature_extraction.text import TfidfVectorizer\n",
    "from sklearn.metrics import accuracy_score, classification_report\n",
    "\n",
    "# Load dataset and split\n",
    "ds = load_dataset(\"GonzaloA/fake_news\")\n",
    "ds = ds[\"train\"].train_test_split(test_size=0.2)\n",
    "\n",
    "# Vectorize text data\n",
    "vectorizer = TfidfVectorizer(max_features=5000)\n",
    "X_train = vectorizer.fit_transform([x[\"text\"] for x in ds[\"train\"]])\n",
    "X_test = vectorizer.transform([x[\"text\"] for x in ds[\"test\"]])\n",
    "\n",
    "# Extract labels\n",
    "y_train = [x[\"label\"] for x in ds[\"train\"]]\n",
    "y_test = [x[\"label\"] for x in ds[\"test\"]]\n",
    "\n",
    "# Train logistic regression\n",
    "model = LogisticRegression(max_iter=1000)\n",
    "model.fit(X_train, y_train)\n",
    "\n",
    "# Predict and evaluate\n",
    "y_pred = model.predict(X_test)\n",
    "accuracy = accuracy_score(y_test, y_pred)\n",
    "print(\"Accuracy:\", accuracy)\n",
    "print(classification_report(y_test, y_pred))"
   ]
  },
  {
   "cell_type": "code",
   "execution_count": 13,
   "id": "60ec97e7-22bd-4e23-867d-5d540de6af1c",
   "metadata": {},
   "outputs": [
    {
     "name": "stderr",
     "output_type": "stream",
     "text": [
      "Repo card metadata block was not found. Setting CardData to empty.\n"
     ]
    },
    {
     "name": "stdout",
     "output_type": "stream",
     "text": [
      "Accuracy: 0.9800862245945391\n",
      "              precision    recall  f1-score   support\n",
      "\n",
      "           0       0.97      0.99      0.98      2270\n",
      "           1       0.99      0.97      0.98      2601\n",
      "\n",
      "    accuracy                           0.98      4871\n",
      "   macro avg       0.98      0.98      0.98      4871\n",
      "weighted avg       0.98      0.98      0.98      4871\n",
      "\n"
     ]
    }
   ],
   "source": [
    "from datasets import load_dataset\n",
    "from sklearn.ensemble import GradientBoostingClassifier\n",
    "from sklearn.feature_extraction.text import TfidfVectorizer\n",
    "from sklearn.metrics import accuracy_score, classification_report\n",
    "\n",
    "# Load dataset and split\n",
    "ds = load_dataset(\"GonzaloA/fake_news\")\n",
    "ds = ds[\"train\"].train_test_split(test_size=0.2)\n",
    "\n",
    "# Vectorize text data\n",
    "vectorizer = TfidfVectorizer(max_features=5000)\n",
    "X_train = vectorizer.fit_transform([x[\"text\"] for x in ds[\"train\"]])\n",
    "X_test = vectorizer.transform([x[\"text\"] for x in ds[\"test\"]])\n",
    "\n",
    "# Extract labels\n",
    "y_train = [x[\"label\"] for x in ds[\"train\"]]\n",
    "y_test = [x[\"label\"] for x in ds[\"test\"]]\n",
    "\n",
    "# Initialize and train the Gradient Boosting model\n",
    "gb_model = GradientBoostingClassifier(n_estimators=100, learning_rate=0.1, max_depth=3, random_state=42)\n",
    "gb_model.fit(X_train, y_train)\n",
    "\n",
    "# Predict and evaluate\n",
    "y_pred = gb_model.predict(X_test)\n",
    "accuracy = accuracy_score(y_test, y_pred)\n",
    "print(\"Accuracy:\", accuracy)\n",
    "print(classification_report(y_test, y_pred))"
   ]
  },
  {
   "cell_type": "code",
   "execution_count": 14,
   "id": "4915baa9-d82f-40b0-a31f-14da1a010ac8",
   "metadata": {},
   "outputs": [
    {
     "name": "stderr",
     "output_type": "stream",
     "text": [
      "Repo card metadata block was not found. Setting CardData to empty.\n"
     ]
    },
    {
     "name": "stdout",
     "output_type": "stream",
     "text": [
      "Accuracy: 0.9798809279408746\n",
      "              precision    recall  f1-score   support\n",
      "\n",
      "           0       0.97      0.99      0.98      2295\n",
      "           1       0.99      0.97      0.98      2576\n",
      "\n",
      "    accuracy                           0.98      4871\n",
      "   macro avg       0.98      0.98      0.98      4871\n",
      "weighted avg       0.98      0.98      0.98      4871\n",
      "\n"
     ]
    }
   ],
   "source": [
    "from datasets import load_dataset\n",
    "from sklearn.ensemble import RandomForestClassifier\n",
    "from sklearn.feature_extraction.text import TfidfVectorizer\n",
    "from sklearn.metrics import accuracy_score, classification_report\n",
    "\n",
    "# Load dataset and split\n",
    "ds = load_dataset(\"GonzaloA/fake_news\")\n",
    "ds = ds[\"train\"].train_test_split(test_size=0.2)\n",
    "\n",
    "# Vectorize text data\n",
    "vectorizer = TfidfVectorizer(max_features=5000)\n",
    "X_train = vectorizer.fit_transform([x[\"text\"] for x in ds[\"train\"]])\n",
    "X_test = vectorizer.transform([x[\"text\"] for x in ds[\"test\"]])\n",
    "\n",
    "# Extract labels\n",
    "y_train = [x[\"label\"] for x in ds[\"train\"]]\n",
    "y_test = [x[\"label\"] for x in ds[\"test\"]]\n",
    "\n",
    "# Initialize and train the Random Forest model\n",
    "rf_model = RandomForestClassifier(n_estimators=100, max_depth=None, random_state=42)\n",
    "rf_model.fit(X_train, y_train)\n",
    "\n",
    "# Predict and evaluate\n",
    "y_pred = rf_model.predict(X_test)\n",
    "accuracy = accuracy_score(y_test, y_pred)\n",
    "print(\"Accuracy:\", accuracy)\n",
    "print(classification_report(y_test, y_pred))"
   ]
  },
  {
   "cell_type": "code",
   "execution_count": 15,
   "id": "e96a4364-d555-4d2d-8d5d-454ab8e100f3",
   "metadata": {},
   "outputs": [
    {
     "name": "stderr",
     "output_type": "stream",
     "text": [
      "Repo card metadata block was not found. Setting CardData to empty.\n"
     ]
    },
    {
     "name": "stdout",
     "output_type": "stream",
     "text": [
      "Accuracy: 0.9234243481831246\n",
      "              precision    recall  f1-score   support\n",
      "\n",
      "           0       0.91      0.92      0.92      2186\n",
      "           1       0.94      0.92      0.93      2685\n",
      "\n",
      "    accuracy                           0.92      4871\n",
      "   macro avg       0.92      0.92      0.92      4871\n",
      "weighted avg       0.92      0.92      0.92      4871\n",
      "\n"
     ]
    }
   ],
   "source": [
    "from datasets import load_dataset\n",
    "from sklearn.naive_bayes import MultinomialNB\n",
    "from sklearn.feature_extraction.text import TfidfVectorizer\n",
    "from sklearn.metrics import accuracy_score, classification_report\n",
    "\n",
    "# Load dataset and split\n",
    "ds = load_dataset(\"GonzaloA/fake_news\")\n",
    "ds = ds[\"train\"].train_test_split(test_size=0.2)\n",
    "\n",
    "# Vectorize text data\n",
    "vectorizer = TfidfVectorizer(max_features=5000)\n",
    "X_train = vectorizer.fit_transform([x[\"text\"] for x in ds[\"train\"]])\n",
    "X_test = vectorizer.transform([x[\"text\"] for x in ds[\"test\"]])\n",
    "\n",
    "# Extract labels\n",
    "y_train = [x[\"label\"] for x in ds[\"train\"]]\n",
    "y_test = [x[\"label\"] for x in ds[\"test\"]]\n",
    "\n",
    "# Initialize and train the Naive Bayes model\n",
    "nb_model = MultinomialNB()\n",
    "nb_model.fit(X_train, y_train)\n",
    "\n",
    "# Predict and evaluate\n",
    "y_pred = nb_model.predict(X_test)\n",
    "accuracy = accuracy_score(y_test, y_pred)\n",
    "print(\"Accuracy:\", accuracy)\n",
    "print(classification_report(y_test, y_pred))"
   ]
  },
  {
   "cell_type": "code",
   "execution_count": 16,
   "id": "8232e55b-ec23-442b-80b9-203d63fb0983",
   "metadata": {},
   "outputs": [
    {
     "name": "stderr",
     "output_type": "stream",
     "text": [
      "Repo card metadata block was not found. Setting CardData to empty.\n"
     ]
    },
    {
     "name": "stdout",
     "output_type": "stream",
     "text": [
      "Model: Logistic Regression\n",
      "Accuracy: 0.9674\n",
      "Classification Report:\n",
      "              precision    recall  f1-score   support\n",
      "\n",
      "           0       0.96      0.97      0.96      2210\n",
      "           1       0.97      0.97      0.97      2661\n",
      "\n",
      "    accuracy                           0.97      4871\n",
      "   macro avg       0.97      0.97      0.97      4871\n",
      "weighted avg       0.97      0.97      0.97      4871\n",
      "\n",
      "==================================================\n",
      "Model: Gradient Boosting\n",
      "Accuracy: 0.9809\n",
      "Classification Report:\n",
      "              precision    recall  f1-score   support\n",
      "\n",
      "           0       0.97      0.99      0.98      2210\n",
      "           1       0.99      0.97      0.98      2661\n",
      "\n",
      "    accuracy                           0.98      4871\n",
      "   macro avg       0.98      0.98      0.98      4871\n",
      "weighted avg       0.98      0.98      0.98      4871\n",
      "\n",
      "==================================================\n",
      "Model: Random Forest\n",
      "Accuracy: 0.9807\n",
      "Classification Report:\n",
      "              precision    recall  f1-score   support\n",
      "\n",
      "           0       0.96      0.99      0.98      2210\n",
      "           1       0.99      0.97      0.98      2661\n",
      "\n",
      "    accuracy                           0.98      4871\n",
      "   macro avg       0.98      0.98      0.98      4871\n",
      "weighted avg       0.98      0.98      0.98      4871\n",
      "\n",
      "==================================================\n",
      "Model: Naive Bayes\n",
      "Accuracy: 0.9150\n",
      "Classification Report:\n",
      "              precision    recall  f1-score   support\n",
      "\n",
      "           0       0.90      0.91      0.91      2210\n",
      "           1       0.93      0.92      0.92      2661\n",
      "\n",
      "    accuracy                           0.92      4871\n",
      "   macro avg       0.91      0.91      0.91      4871\n",
      "weighted avg       0.92      0.92      0.92      4871\n",
      "\n",
      "==================================================\n"
     ]
    }
   ],
   "source": [
    "from sklearn.model_selection import train_test_split\n",
    "from sklearn.feature_extraction.text import TfidfVectorizer\n",
    "from datasets import load_dataset\n",
    "from sklearn.linear_model import LogisticRegression\n",
    "from sklearn.ensemble import GradientBoostingClassifier, RandomForestClassifier\n",
    "from sklearn.naive_bayes import MultinomialNB\n",
    "from sklearn.metrics import accuracy_score, classification_report\n",
    "\n",
    "# Load the dataset\n",
    "ds = load_dataset(\"GonzaloA/fake_news\")\n",
    "ds = ds[\"train\"].train_test_split(test_size=0.2)\n",
    "\n",
    "# Vectorize text data\n",
    "vectorizer = TfidfVectorizer(max_features=5000)\n",
    "X_train = vectorizer.fit_transform([x[\"text\"] for x in ds[\"train\"]])\n",
    "X_test = vectorizer.transform([x[\"text\"] for x in ds[\"test\"]])\n",
    "\n",
    "# Extract labels\n",
    "y_train = [x[\"label\"] for x in ds[\"train\"]]\n",
    "y_test = [x[\"label\"] for x in ds[\"test\"]]\n",
    "\n",
    "# Initialize each model\n",
    "log_reg_model = LogisticRegression(max_iter=1000)\n",
    "gb_model = GradientBoostingClassifier(n_estimators=100, learning_rate=0.1, max_depth=3, random_state=42)\n",
    "rf_model = RandomForestClassifier(n_estimators=100, max_depth=None, random_state=42)\n",
    "nb_model = MultinomialNB()\n",
    "\n",
    "# Train all models on the training data\n",
    "log_reg_model.fit(X_train, y_train)\n",
    "gb_model.fit(X_train, y_train)\n",
    "rf_model.fit(X_train, y_train)\n",
    "nb_model.fit(X_train, y_train)\n",
    "\n",
    "# List of models for evaluation\n",
    "models = {\n",
    "    \"Logistic Regression\": log_reg_model,\n",
    "    \"Gradient Boosting\": gb_model,\n",
    "    \"Random Forest\": rf_model,\n",
    "    \"Naive Bayes\": nb_model\n",
    "}\n",
    "\n",
    "# Evaluate each model\n",
    "for model_name, model in models.items():\n",
    "    # Predict on the test set\n",
    "    y_pred = model.predict(X_test)\n",
    "    \n",
    "    # Calculate accuracy\n",
    "    accuracy = accuracy_score(y_test, y_pred)\n",
    "    \n",
    "    # Print model's name, accuracy, and classification report\n",
    "    print(f\"Model: {model_name}\")\n",
    "    print(f\"Accuracy: {accuracy:.4f}\")\n",
    "    print(\"Classification Report:\")\n",
    "    print(classification_report(y_test, y_pred))\n",
    "    print(\"=\"*50)"
   ]
  },
  {
   "cell_type": "code",
   "execution_count": 17,
   "id": "8c000447-d848-446a-83e6-e6a04396900d",
   "metadata": {},
   "outputs": [],
   "source": [
    " new_texts = [\n",
    "     \"Why is Elon Musk becoming Donald Trump's efficiency tsar Billionaire Elon Musk has been tasked with leading incoming President Donald Trump's new Department of Government Efficiency (Doge) In a statement on social media, the US president-elect said Musk - along with former Republican presidential candidate Vivek Ramaswamy - would dismantle government bureaucracy, slash excess regulations, cut wasteful expenditures and restructure federal agencies It is a role that the tech entrepreneur has arguably prepared for through his business leadership and one he has spent months arguing for But it is also one that is expected to garner him influence over government policy and the regulatory environment his enterprises exist in\"\n",
    "  ]"
   ]
  },
  {
   "cell_type": "code",
   "execution_count": 18,
   "id": "3b96684c-0b6c-41f3-84c5-c430a1fab55a",
   "metadata": {},
   "outputs": [],
   "source": [
    "new_texts_vectorized = vectorizer.transform(new_texts)"
   ]
  },
  {
   "cell_type": "code",
   "execution_count": 19,
   "id": "9c8dbe5d-0714-4121-b232-f9c7052538bf",
   "metadata": {},
   "outputs": [
    {
     "name": "stdout",
     "output_type": "stream",
     "text": [
      "Model: Logistic Regression\n",
      "Text 1: Real\n",
      "==================================================\n",
      "Model: Gradient Boosting\n",
      "Text 1: Fake\n",
      "==================================================\n",
      "Model: Random Forest\n",
      "Text 1: Fake\n",
      "==================================================\n",
      "Model: Naive Bayes\n",
      "Text 1: Real\n",
      "==================================================\n"
     ]
    }
   ],
   "source": [
    "def check_fake_news(models, new_texts_vectorized):\n",
    "    for model_name, model in models.items():\n",
    "        y_pred = model.predict(new_texts_vectorized)\n",
    "        \n",
    "        # Print out the predictions\n",
    "        print(f\"Model: {model_name}\")\n",
    "        for i, text in enumerate(new_texts):\n",
    "            print(f\"Text {i+1}: {'Fake' if y_pred[i] == 0 else 'Real'}\")\n",
    "        print(\"=\" * 50)\n",
    "\n",
    "# Check predictions (make sure this line is at the correct indentation level)\n",
    "check_fake_news(models, new_texts_vectorized)"
   ]
  },
  {
   "cell_type": "code",
   "execution_count": 20,
   "id": "3bcd7aec-a10c-49fd-9325-bb224d2264b4",
   "metadata": {},
   "outputs": [
    {
     "name": "stdout",
     "output_type": "stream",
     "text": [
      "Extracted Article Text:\n",
      " MUMBAI: It seems that Sharad Pawar’s party, the NCP, faced significant challenges in the Assembly polls due to his failure to fulfill the promise of introducing fresh faces into the leadership and nurturing them, much like how Yashwantrao Chavan—Maharashtra’s first chief minister—mentored him.\n",
      "\n",
      "Buoyed by a massive victory in the recent Lok Sabha elections, Pawar had pledged to provide opportunities to younger candidates. However, in his own constituency of Baramati—first represented by him and later by his nephew, Ajit Pawar, since the 1960s—he chose to field his own 32-year-old grand-nephew, Yogendra Pawar, against his nephew and rival, Ajit Pawar, who is also the deputy chief minister.\n",
      "\n",
      "But the people opted for the more experienced Ajit Pawar. In the Lok Sabha election for the Baramati seat, Ajit Pawar’s wife, Sunetra Pawar, lost to Sharad Pawar’s daughter, Supriya Sule, by 150,000 votes. In the assembly segment, she trailed by 48,000 votes. Notably, in the state elections, Ajit Pawar won against his grand-nephew Yogendra by a significant margin of 1,00,899 votes.\n",
      "Model: Logistic Regression\n",
      "Prediction: Real\n",
      "==================================================\n",
      "Model: Gradient Boosting\n",
      "Prediction: Fake\n",
      "==================================================\n",
      "Model: Random Forest\n",
      "Prediction: Fake\n",
      "==================================================\n",
      "Model: Naive Bayes\n",
      "Prediction: Real\n",
      "==================================================\n"
     ]
    }
   ],
   "source": [
    "from newspaper import Article\n",
    "from sklearn.feature_extraction.text import TfidfVectorizer\n",
    "\n",
    "# Define function to extract article text from a URL\n",
    "def extract_article(url):\n",
    "    article = Article(url)\n",
    "    article.download()\n",
    "    article.parse()\n",
    "    return article.text\n",
    "\n",
    "# Example usage: Extract article text\n",
    "url = 'https://www.newindianexpress.com/thesundaystandard/2024/Nov/24/future-tense-for-sharad-pawar-uddhav-thackeray'\n",
    "article_text = extract_article(url)\n",
    "\n",
    "# Print the extracted text\n",
    "print(\"Extracted Article Text:\\n\", article_text)\n",
    "\n",
    "# Assuming 'vectorizer' is already trained with your dataset\n",
    "# Vectorize the new article text\n",
    "new_text_vectorized = vectorizer.transform([article_text])\n",
    "\n",
    "# Function to check if the article is fake or real\n",
    "def check_fake_news(models, new_text_vectorized):\n",
    "    for model_name, model in models.items():\n",
    "        y_pred = model.predict(new_text_vectorized)\n",
    "        \n",
    "        # Print the prediction for each model\n",
    "        print(f\"Model: {model_name}\")\n",
    "        print(f\"Prediction: {'Fake' if y_pred[0] == 0 else 'Real'}\")\n",
    "        print(\"=\" * 50)\n",
    "\n",
    "# Run the fake news check\n",
    "check_fake_news(models, new_text_vectorized)"
   ]
  },
  {
   "cell_type": "code",
   "execution_count": 21,
   "id": "6bc87725-c2bb-4511-877f-0f18adeb39c2",
   "metadata": {},
   "outputs": [
    {
     "name": "stdout",
     "output_type": "stream",
     "text": [
      "Extracted Article Text:\n",
      " MUMBAI: It seems that Sharad Pawar’s party, the NCP, faced significant challenges in the Assembly polls due to his failure to fulfill the promise of introducing fresh faces into the leadership and nurturing them, much like how Yashwantrao Chavan—Maharashtra’s first chief minister—mentored him.\n",
      "\n",
      "Buoyed by a massive victory in the recent Lok Sabha elections, Pawar had pledged to provide opportunities to younger candidates. However, in his own constituency of Baramati—first represented by him and later by his nephew, Ajit Pawar, since the 1960s—he chose to field his own 32-year-old grand-nephew, Yogendra Pawar, against his nephew and rival, Ajit Pawar, who is also the deputy chief minister.\n",
      "\n",
      "But the people opted for the more experienced Ajit Pawar. In the Lok Sabha election for the Baramati seat, Ajit Pawar’s wife, Sunetra Pawar, lost to Sharad Pawar’s daughter, Supriya Sule, by 150,000 votes. In the assembly segment, she trailed by 48,000 votes. Notably, in the state elections, Ajit Pawar won against his grand-nephew Yogendra by a significant margin of 1,00,899 votes.\n",
      "Final Prediction: Real\n"
     ]
    }
   ],
   "source": [
    "import numpy as np\n",
    "from newspaper import Article\n",
    "from sklearn.feature_extraction.text import TfidfVectorizer\n",
    "\n",
    "# Define function to extract article text from a URL\n",
    "def extract_article(url):\n",
    "    article = Article(url)\n",
    "    article.download()\n",
    "    article.parse()\n",
    "    return article.text\n",
    "\n",
    "# Example usage: Extract article text from the provided URL\n",
    "url = 'https://www.newindianexpress.com/thesundaystandard/2024/Nov/24/future-tense-for-sharad-pawar-uddhav-thackeray'  # Example article URL\n",
    "article_text = extract_article(url)\n",
    "\n",
    "# Print the extracted text\n",
    "print(\"Extracted Article Text:\\n\", article_text)\n",
    "\n",
    "# Assuming 'vectorizer' is already trained with your dataset\n",
    "# Vectorize the new article text using the fitted vectorizer\n",
    "new_text_vectorized = vectorizer.transform([article_text])\n",
    "\n",
    "# Define the model accuracies (these should match the models you're using)\n",
    "model_accuracies = [0.9717, 0.9811, 0.9780, 0.9230]  # Logistic Regression, Gradient Boosting, Random Forest, Naive Bayes\n",
    "\n",
    "# Function to check if the article is fake or real with weighted decision\n",
    "def check_fake_news_weighted(models, new_text_vectorized, model_accuracies):\n",
    "    model_predictions = []\n",
    "    \n",
    "    # Get predictions from each model\n",
    "    for i, (model_name, model) in enumerate(models.items()):\n",
    "        y_pred = model.predict(new_text_vectorized)\n",
    "        model_predictions.append(y_pred[0])  # Store the prediction of the first (and only) text\n",
    "\n",
    "    # Initialize weighted sum of predictions\n",
    "    weighted_sum = 0\n",
    "    \n",
    "    # Calculate the weighted sum of the predictions based on accuracies\n",
    "    for i, prediction in enumerate(model_predictions):\n",
    "        weighted_sum += prediction * model_accuracies[i]  # Multiply each model's prediction by its accuracy (weight)\n",
    "\n",
    "    # Final decision: sum of weighted predictions\n",
    "    if weighted_sum > 0:\n",
    "        final_prediction = 1  # Consider \"Real\" if weighted sum is positive\n",
    "    else:\n",
    "        final_prediction = 0  # Consider \"Fake\" if weighted sum is zero or negative\n",
    "    \n",
    "    return 'Real' if final_prediction == 1 else 'Fake'\n",
    "\n",
    "# Example models (These need to be defined or loaded based on your previous code)\n",
    "# Assuming you already have these models loaded and trained:\n",
    "models = {\n",
    "    \"Logistic Regression\": log_reg_model,  # Your trained Logistic Regression model\n",
    "    \"Gradient Boosting\": gb_model,        # Your trained Gradient Boosting model\n",
    "    \"Random Forest\": rf_model,            # Your trained Random Forest model\n",
    "    \"Naive Bayes\": nb_model               # Your trained Naive Bayes model\n",
    "}\n",
    "\n",
    "# Run the fake news check with weighted decision\n",
    "final_result = check_fake_news_weighted(models, new_text_vectorized, model_accuracies)\n",
    "print(f\"Final Prediction: {final_result}\")"
   ]
  },
  {
   "cell_type": "code",
   "execution_count": 22,
   "id": "7ee3f3d2-2c41-46b5-8112-93db7e2fed39",
   "metadata": {},
   "outputs": [],
   "source": [
    "import pickle"
   ]
  },
  {
   "cell_type": "code",
   "execution_count": 23,
   "id": "1c4fbede-e968-4bd7-9a60-62cd212e3e3a",
   "metadata": {},
   "outputs": [
    {
     "data": {
      "text/plain": [
       "['tfidf_vectorizer.pkl']"
      ]
     },
     "execution_count": 23,
     "metadata": {},
     "output_type": "execute_result"
    }
   ],
   "source": [
    "import joblib\n",
    "\n",
    "# Save the vectorizer\n",
    "joblib.dump(vectorizer, \"tfidf_vectorizer.pkl\")"
   ]
  },
  {
   "cell_type": "code",
   "execution_count": 24,
   "id": "191d3945-d0dc-4c81-b008-d8fe7e888dbb",
   "metadata": {},
   "outputs": [
    {
     "data": {
      "text/plain": [
       "['naive_bayes_model.pkl']"
      ]
     },
     "execution_count": 24,
     "metadata": {},
     "output_type": "execute_result"
    }
   ],
   "source": [
    "joblib.dump(log_reg_model, \"logistic_regression_model.pkl\")\n",
    "joblib.dump(gb_model, \"gradient_boosting_model.pkl\")\n",
    "joblib.dump(rf_model, \"random_forest_model.pkl\")\n",
    "joblib.dump(nb_model, \"naive_bayes_model.pkl\")"
   ]
  },
  {
   "cell_type": "code",
   "execution_count": 24,
   "id": "906a7737-4997-46e8-a5da-b9ed1a729d1d",
   "metadata": {},
   "outputs": [
    {
     "name": "stdout",
     "output_type": "stream",
     "text": [
      "Note: you may need to restart the kernel to use updated packages.Requirement already satisfied: flask in c:\\users\\prash\\appdata\\local\\programs\\python\\python312\\lib\\site-packages (3.1.0)\n",
      "Requirement already satisfied: joblib in c:\\users\\prash\\appdata\\local\\programs\\python\\python312\\lib\\site-packages (1.4.2)\n",
      "Requirement already satisfied: newspaper3k in c:\\users\\prash\\appdata\\local\\programs\\python\\python312\\lib\\site-packages (0.2.8)\n",
      "Requirement already satisfied: Werkzeug>=3.1 in c:\\users\\prash\\appdata\\local\\programs\\python\\python312\\lib\\site-packages (from flask) (3.1.3)\n",
      "Requirement already satisfied: Jinja2>=3.1.2 in c:\\users\\prash\\appdata\\local\\programs\\python\\python312\\lib\\site-packages (from flask) (3.1.4)\n",
      "Requirement already satisfied: itsdangerous>=2.2 in c:\\users\\prash\\appdata\\local\\programs\\python\\python312\\lib\\site-packages (from flask) (2.2.0)\n",
      "Requirement already satisfied: click>=8.1.3 in c:\\users\\prash\\appdata\\local\\programs\\python\\python312\\lib\\site-packages (from flask) (8.1.7)\n",
      "Requirement already satisfied: blinker>=1.9 in c:\\users\\prash\\appdata\\local\\programs\\python\\python312\\lib\\site-packages (from flask) (1.9.0)\n",
      "Requirement already satisfied: beautifulsoup4>=4.4.1 in c:\\users\\prash\\appdata\\local\\programs\\python\\python312\\lib\\site-packages (from newspaper3k) (4.12.3)\n",
      "Requirement already satisfied: Pillow>=3.3.0 in c:\\users\\prash\\appdata\\local\\programs\\python\\python312\\lib\\site-packages (from newspaper3k) (10.4.0)\n",
      "Requirement already satisfied: PyYAML>=3.11 in c:\\users\\prash\\appdata\\local\\programs\\python\\python312\\lib\\site-packages (from newspaper3k) (6.0.1)\n",
      "Requirement already satisfied: cssselect>=0.9.2 in c:\\users\\prash\\appdata\\local\\programs\\python\\python312\\lib\\site-packages (from newspaper3k) (1.2.0)\n",
      "Requirement already satisfied: lxml>=3.6.0 in c:\\users\\prash\\appdata\\local\\programs\\python\\python312\\lib\\site-packages (from newspaper3k) (5.3.0)\n",
      "Requirement already satisfied: nltk>=3.2.1 in c:\\users\\prash\\appdata\\local\\programs\\python\\python312\\lib\\site-packages (from newspaper3k) (3.8.1)\n",
      "Requirement already satisfied: requests>=2.10.0 in c:\\users\\prash\\appdata\\local\\programs\\python\\python312\\lib\\site-packages (from newspaper3k) (2.32.3)\n",
      "Requirement already satisfied: feedparser>=5.2.1 in c:\\users\\prash\\appdata\\local\\programs\\python\\python312\\lib\\site-packages (from newspaper3k) (6.0.11)\n",
      "Requirement already satisfied: tldextract>=2.0.1 in c:\\users\\prash\\appdata\\local\\programs\\python\\python312\\lib\\site-packages (from newspaper3k) (5.1.3)\n",
      "Requirement already satisfied: feedfinder2>=0.0.4 in c:\\users\\prash\\appdata\\local\\programs\\python\\python312\\lib\\site-packages (from newspaper3k) (0.0.4)\n",
      "Requirement already satisfied: jieba3k>=0.35.1 in c:\\users\\prash\\appdata\\local\\programs\\python\\python312\\lib\\site-packages (from newspaper3k) (0.35.1)\n",
      "Requirement already satisfied: python-dateutil>=2.5.3 in c:\\users\\prash\\appdata\\local\\programs\\python\\python312\\lib\\site-packages (from newspaper3k) (2.9.0.post0)\n",
      "Requirement already satisfied: tinysegmenter==0.3 in c:\\users\\prash\\appdata\\local\\programs\\python\\python312\\lib\\site-packages (from newspaper3k) (0.3)\n",
      "Requirement already satisfied: soupsieve>1.2 in c:\\users\\prash\\appdata\\local\\programs\\python\\python312\\lib\\site-packages (from beautifulsoup4>=4.4.1->newspaper3k) (2.5)\n",
      "Requirement already satisfied: colorama in c:\\users\\prash\\appdata\\local\\programs\\python\\python312\\lib\\site-packages (from click>=8.1.3->flask) (0.4.6)\n",
      "Requirement already satisfied: six in c:\\users\\prash\\appdata\\local\\programs\\python\\python312\\lib\\site-packages (from feedfinder2>=0.0.4->newspaper3k) (1.16.0)\n",
      "Requirement already satisfied: sgmllib3k in c:\\users\\prash\\appdata\\local\\programs\\python\\python312\\lib\\site-packages (from feedparser>=5.2.1->newspaper3k) (1.0.0)\n",
      "Requirement already satisfied: MarkupSafe>=2.0 in c:\\users\\prash\\appdata\\local\\programs\\python\\python312\\lib\\site-packages (from Jinja2>=3.1.2->flask) (2.1.5)\n",
      "Requirement already satisfied: regex>=2021.8.3 in c:\\users\\prash\\appdata\\local\\programs\\python\\python312\\lib\\site-packages (from nltk>=3.2.1->newspaper3k) (2024.5.15)\n",
      "Requirement already satisfied: tqdm in c:\\users\\prash\\appdata\\local\\programs\\python\\python312\\lib\\site-packages (from nltk>=3.2.1->newspaper3k) (4.66.4)\n",
      "Requirement already satisfied: charset-normalizer<4,>=2 in c:\\users\\prash\\appdata\\local\\programs\\python\\python312\\lib\\site-packages (from requests>=2.10.0->newspaper3k) (3.3.2)\n",
      "Requirement already satisfied: idna<4,>=2.5 in c:\\users\\prash\\appdata\\local\\programs\\python\\python312\\lib\\site-packages (from requests>=2.10.0->newspaper3k) (3.7)\n",
      "Requirement already satisfied: urllib3<3,>=1.21.1 in c:\\users\\prash\\appdata\\local\\programs\\python\\python312\\lib\\site-packages (from requests>=2.10.0->newspaper3k) (2.2.2)\n",
      "Requirement already satisfied: certifi>=2017.4.17 in c:\\users\\prash\\appdata\\local\\programs\\python\\python312\\lib\\site-packages (from requests>=2.10.0->newspaper3k) (2024.7.4)\n",
      "Requirement already satisfied: requests-file>=1.4 in c:\\users\\prash\\appdata\\local\\programs\\python\\python312\\lib\\site-packages (from tldextract>=2.0.1->newspaper3k) (2.1.0)\n",
      "Requirement already satisfied: filelock>=3.0.8 in c:\\users\\prash\\appdata\\local\\programs\\python\\python312\\lib\\site-packages (from tldextract>=2.0.1->newspaper3k) (3.16.1)\n",
      "\n"
     ]
    },
    {
     "name": "stderr",
     "output_type": "stream",
     "text": [
      "\n",
      "[notice] A new release of pip is available: 24.0 -> 24.3.1\n",
      "[notice] To update, run: python.exe -m pip install --upgrade pip\n"
     ]
    }
   ],
   "source": [
    "pip install flask joblib newspaper3k"
   ]
  },
  {
   "cell_type": "code",
   "execution_count": 25,
   "id": "9acdbee3-6da6-47fa-84e7-2a3de025f566",
   "metadata": {},
   "outputs": [
    {
     "name": "stdout",
     "output_type": "stream",
     "text": [
      " * Serving Flask app '__main__'\n",
      " * Debug mode: on\n"
     ]
    },
    {
     "name": "stderr",
     "output_type": "stream",
     "text": [
      "WARNING: This is a development server. Do not use it in a production deployment. Use a production WSGI server instead.\n",
      " * Running on http://127.0.0.1:5000\n",
      "Press CTRL+C to quit\n",
      " * Restarting with stat\n"
     ]
    },
    {
     "ename": "SystemExit",
     "evalue": "1",
     "output_type": "error",
     "traceback": [
      "An exception has occurred, use %tb to see the full traceback.\n",
      "\u001b[1;31mSystemExit\u001b[0m\u001b[1;31m:\u001b[0m 1\n"
     ]
    },
    {
     "name": "stderr",
     "output_type": "stream",
     "text": [
      "c:\\Users\\Prash\\AppData\\Local\\Programs\\Python\\Python312\\Lib\\site-packages\\IPython\\core\\interactiveshell.py:3585: UserWarning: To exit: use 'exit', 'quit', or Ctrl-D.\n",
      "  warn(\"To exit: use 'exit', 'quit', or Ctrl-D.\", stacklevel=1)\n"
     ]
    }
   ],
   "source": [
    "from flask import Flask, request, jsonify\n",
    "import joblib\n",
    "from newspaper import Article\n",
    "\n",
    "# Load models and vectorizer\n",
    "vectorizer = joblib.load(\"tfidf_vectorizer.pkl\")\n",
    "log_reg_model = joblib.load(\"logistic_regression_model.pkl\")\n",
    "gb_model = joblib.load(\"gradient_boosting_model.pkl\")\n",
    "rf_model = joblib.load(\"random_forest_model.pkl\")\n",
    "nb_model = joblib.load(\"naive_bayes_model.pkl\")\n",
    "\n",
    "# Model accuracies (weights)\n",
    "model_accuracies = [0.9717, 0.9811, 0.9780, 0.9230]\n",
    "\n",
    "# Flask app\n",
    "app = Flask(__name__)\n",
    "\n",
    "# Route for prediction\n",
    "@app.route(\"/predict\", methods=[\"POST\"])\n",
    "def predict():\n",
    "    data = request.json\n",
    "    url = data.get(\"url\")\n",
    "\n",
    "    # Extract article text\n",
    "    article = Article(url)\n",
    "    article.download()\n",
    "    article.parse()\n",
    "    text = article.text\n",
    "\n",
    "    # Vectorize the text\n",
    "    text_vectorized = vectorizer.transform([text])\n",
    "\n",
    "    # Model predictions\n",
    "    models = {\n",
    "        \"Logistic Regression\": log_reg_model,\n",
    "        \"Gradient Boosting\": gb_model,\n",
    "        \"Random Forest\": rf_model,\n",
    "        \"Naive Bayes\": nb_model\n",
    "    }\n",
    "    model_predictions = []\n",
    "    for i, (model_name, model) in enumerate(models.items()):\n",
    "        y_pred = model.predict(text_vectorized)\n",
    "        model_predictions.append(y_pred[0])\n",
    "\n",
    "    # Weighted decision\n",
    "    weighted_sum = sum(pred * model_accuracies[i] for i, pred in enumerate(model_predictions))\n",
    "    final_prediction = \"Real\" if weighted_sum > 0 else \"Fake\"\n",
    "\n",
    "    return jsonify({\n",
    "        \"url\": url,\n",
    "        \"text\": text,\n",
    "        \"prediction\": final_prediction,\n",
    "        \"model_predictions\": model_predictions\n",
    "    })\n",
    "\n",
    "# Run the app\n",
    "if __name__ == \"__main__\":\n",
    "    app.run(debug=True)"
   ]
  },
  {
   "cell_type": "code",
   "execution_count": 27,
   "id": "6000f3a3-42ad-46b2-9500-f9099697e46a",
   "metadata": {},
   "outputs": [
    {
     "name": "stdout",
     "output_type": "stream",
     "text": [
      "MUMBAI: It seems that Sharad Pawar’s party, the NCP, faced significant challenges in the Assembly polls due to his failure to fulfill the promise of introducing fresh faces into the leadership and nurturing them, much like how Yashwantrao Chavan—Maharashtra’s first chief minister—mentored him.\n",
      "\n",
      "Buoyed by a massive victory in the recent Lok Sabha elections, Pawar had pledged to provide opportunities to younger candidates. However, in his own constituency of Baramati—first represented by him and later by his nephew, Ajit Pawar, since the 1960s—he chose to field his own 32-year-old grand-nephew, Yogendra Pawar, against his nephew and rival, Ajit Pawar, who is also the deputy chief minister.\n",
      "\n",
      "But the people opted for the more experienced Ajit Pawar. In the Lok Sabha election for the Baramati seat, Ajit Pawar’s wife, Sunetra Pawar, lost to Sharad Pawar’s daughter, Supriya Sule, by 150,000 votes. In the assembly segment, she trailed by 48,000 votes. Notably, in the state elections, Ajit Pawar won against his grand-nephew Yogendra by a significant margin of 1,00,899 votes.\n"
     ]
    }
   ],
   "source": [
    "from newspaper import Article\n",
    "\n",
    "url = \"https://www.newindianexpress.com/thesundaystandard/2024/Nov/24/future-tense-for-sharad-pawar-uddhav-thackeray\"\n",
    "article = Article(url)\n",
    "article.download()\n",
    "article.parse()\n",
    "print(article.text) "
   ]
  },
  {
   "cell_type": "code",
   "execution_count": 28,
   "id": "1ecdb1ae-1e33-417d-942a-2b0d81b200e8",
   "metadata": {},
   "outputs": [
    {
     "ename": "ModuleNotFoundError",
     "evalue": "No module named 'streamlita'",
     "output_type": "error",
     "traceback": [
      "\u001b[1;31m---------------------------------------------------------------------------\u001b[0m",
      "\u001b[1;31mModuleNotFoundError\u001b[0m                       Traceback (most recent call last)",
      "Cell \u001b[1;32mIn[28], line 1\u001b[0m\n\u001b[1;32m----> 1\u001b[0m \u001b[38;5;28;01mimport\u001b[39;00m \u001b[38;5;21;01mstreamlita\u001b[39;00m \u001b[38;5;28;01mas\u001b[39;00m \u001b[38;5;21;01mst\u001b[39;00m\n",
      "\u001b[1;31mModuleNotFoundError\u001b[0m: No module named 'streamlita'"
     ]
    }
   ],
   "source": [
    "import streamlita as st"
   ]
  },
  {
   "cell_type": "code",
   "execution_count": 29,
   "id": "a9e65fb2-8a83-46ee-ba7e-e310f7694750",
   "metadata": {},
   "outputs": [
    {
     "ename": "ModuleNotFoundError",
     "evalue": "No module named 'streamlit'",
     "output_type": "error",
     "traceback": [
      "\u001b[1;31m---------------------------------------------------------------------------\u001b[0m",
      "\u001b[1;31mModuleNotFoundError\u001b[0m                       Traceback (most recent call last)",
      "Cell \u001b[1;32mIn[29], line 1\u001b[0m\n\u001b[1;32m----> 1\u001b[0m \u001b[38;5;28;01mimport\u001b[39;00m \u001b[38;5;21;01mstreamlit\u001b[39;00m \u001b[38;5;28;01mas\u001b[39;00m \u001b[38;5;21;01mst\u001b[39;00m\n",
      "\u001b[1;31mModuleNotFoundError\u001b[0m: No module named 'streamlit'"
     ]
    }
   ],
   "source": [
    "import streamlit as st"
   ]
  },
  {
   "cell_type": "code",
   "execution_count": null,
   "id": "d82ec9ef-a6e2-4781-a110-e00beba42a08",
   "metadata": {},
   "outputs": [],
   "source": []
  }
 ],
 "metadata": {
  "kernelspec": {
   "display_name": "Python 3 (ipykernel)",
   "language": "python",
   "name": "python3"
  },
  "language_info": {
   "codemirror_mode": {
    "name": "ipython",
    "version": 3
   },
   "file_extension": ".py",
   "mimetype": "text/x-python",
   "name": "python",
   "nbconvert_exporter": "python",
   "pygments_lexer": "ipython3",
   "version": "3.12.4"
  }
 },
 "nbformat": 4,
 "nbformat_minor": 5
}
